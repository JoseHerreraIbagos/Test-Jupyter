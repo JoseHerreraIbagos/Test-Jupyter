{
  "nbformat": 4,
  "nbformat_minor": 0,
  "metadata": {
    "colab": {
      "name": "Programación.ipynb",
      "provenance": [],
      "collapsed_sections": [],
      "include_colab_link": true
    },
    "kernelspec": {
      "name": "python3",
      "display_name": "Python 3"
    },
    "accelerator": "GPU"
  },
  "cells": [
    {
      "cell_type": "markdown",
      "metadata": {
        "id": "view-in-github",
        "colab_type": "text"
      },
      "source": [
        "<a href=\"https://colab.research.google.com/github/JoseHerreraIbagos/Test-Jupyter/blob/master/Programaci%C3%B3n.ipynb\" target=\"_parent\"><img src=\"https://colab.research.google.com/assets/colab-badge.svg\" alt=\"Open In Colab\"/></a>"
      ]
    },
    {
      "cell_type": "code",
      "metadata": {
        "id": "fjun0_7Qt1NI",
        "colab_type": "code",
        "outputId": "756a62f8-f137-41f6-bf7b-746305eebed8",
        "colab": {
          "base_uri": "https://localhost:8080/",
          "height": 180
        }
      },
      "source": [
        "from google.colab import drive\n",
        "drive.mount('/content/drive/')"
      ],
      "execution_count": 0,
      "outputs": [
        {
          "output_type": "error",
          "ename": "ImportError",
          "evalue": "ignored",
          "traceback": [
            "\u001b[1;31m---------------------------------------------------------------------------\u001b[0m",
            "\u001b[1;31mImportError\u001b[0m                               Traceback (most recent call last)",
            "\u001b[1;32m<ipython-input-1-91874b305a32>\u001b[0m in \u001b[0;36m<module>\u001b[1;34m()\u001b[0m\n\u001b[1;32m----> 1\u001b[1;33m \u001b[1;32mfrom\u001b[0m \u001b[0mgoogle\u001b[0m\u001b[1;33m.\u001b[0m\u001b[0mcolab\u001b[0m \u001b[1;32mimport\u001b[0m \u001b[0mdrive\u001b[0m\u001b[1;33m\u001b[0m\u001b[0m\n\u001b[0m\u001b[0;32m      2\u001b[0m \u001b[0mdrive\u001b[0m\u001b[1;33m.\u001b[0m\u001b[0mmount\u001b[0m\u001b[1;33m(\u001b[0m\u001b[1;34m'/content/drive/'\u001b[0m\u001b[1;33m)\u001b[0m\u001b[1;33m\u001b[0m\u001b[0m\n",
            "\u001b[1;31mImportError\u001b[0m: No module named google.colab"
          ]
        }
      ]
    },
    {
      "cell_type": "code",
      "metadata": {
        "id": "Sdxh3KeIt4op",
        "colab_type": "code",
        "outputId": "3983cac9-1738-4a93-f7e5-39dd174ce539",
        "colab": {
          "base_uri": "https://localhost:8080/",
          "height": 35
        }
      },
      "source": [
        "!ls \"/content/drive/My Drive/Colab Notebooks\""
      ],
      "execution_count": 0,
      "outputs": [
        {
          "output_type": "stream",
          "text": [
            "circulo.png  Logouis.png  piramide.png\tPresentación.zip  Programación.ipynb\n"
          ],
          "name": "stdout"
        }
      ]
    },
    {
      "cell_type": "code",
      "metadata": {
        "id": "hAuL3WyRlrpm",
        "colab_type": "code",
        "outputId": "8caca628-83a6-43ab-db22-6d529d17f57f",
        "colab": {
          "base_uri": "https://localhost:8080/",
          "height": 527
        }
      },
      "source": [
        "!dir"
      ],
      "execution_count": 0,
      "outputs": [
        {
          "output_type": "stream",
          "text": [
            " El volumen de la unidad C no tiene etiqueta.\n",
            " El número de serie del volumen es: 5EDF-1832\n",
            "\n",
            " Directorio de C:\\Users\\JoseRHerrera\n",
            "\n",
            "16/09/2018  01:41    <DIR>          .\n",
            "16/09/2018  01:41    <DIR>          ..\n",
            "16/09/2018  01:25    <DIR>          .conda\n",
            "16/09/2018  01:41    <DIR>          .ipynb_checkpoints\n",
            "16/09/2018  01:25    <DIR>          .ipython\n",
            "23/09/2018  12:59    <DIR>          .jupyter\n",
            "16/09/2018  01:31    <DIR>          .matplotlib\n",
            "23/09/2018  11:11    <DIR>          .spyder\n",
            "23/09/2018  12:59    <DIR>          Anaconda\n",
            "19/06/2018  06:51    <DIR>          ansel\n",
            "19/06/2018  06:52    <DIR>          Contacts\n",
            "17/09/2018  20:34    <DIR>          Desktop\n",
            "16/09/2018  01:25    <DIR>          Documents\n",
            "17/09/2018  20:38    <DIR>          Downloads\n",
            "17/09/2018  19:22    <DIR>          Dropbox\n",
            "19/06/2018  06:53    <DIR>          Favorites\n",
            "27/06/2018  12:10    <DIR>          Links\n",
            "19/06/2018  06:52    <DIR>          Music\n",
            "20/08/2018  18:02    <DIR>          Pictures\n",
            "15/09/2018  22:15    <DIR>          Saved Games\n",
            "19/06/2018  06:52    <DIR>          Searches\n",
            "12/07/2018  13:06               367 Sti_Trace.log\n",
            "23/09/2018  10:10    <DIR>          Videos\n",
            "               1 archivos            367 bytes\n",
            "              22 dirs  20.993.257.472 bytes libres\n"
          ],
          "name": "stdout"
        }
      ]
    },
    {
      "cell_type": "markdown",
      "metadata": {
        "id": "kfaCH24Eo6Hz",
        "colab_type": "text"
      },
      "source": [
        "# Programación Elemental"
      ]
    },
    {
      "cell_type": "markdown",
      "metadata": {
        "id": "_ntW3lcOo6H0",
        "colab_type": "text"
      },
      "source": [
        "## Por José Roberto Herrera"
      ]
    },
    {
      "cell_type": "markdown",
      "metadata": {
        "id": "bDCWo2Ieo6H1",
        "colab_type": "text"
      },
      "source": [
        "*texto en cursiva*![texto alternativo](\"/content/drive/My Drive/Colab Notebooks/Logouis.png\")\n"
      ]
    },
    {
      "cell_type": "markdown",
      "metadata": {
        "id": "9cH_MTVUo6H1",
        "colab_type": "text"
      },
      "source": [
        "# Loops (iteraciones) for"
      ]
    },
    {
      "cell_type": "markdown",
      "metadata": {
        "id": "22aVuARVo6H3",
        "colab_type": "text"
      },
      "source": [
        "Si se sabe exactamente cuantas veces se necesita que un bloque loop  se ejecute, una variable llamada *variable de control* puede ser utilizada para contar la ejecuciones. Una iteración de este tipo se conoce como *controlada-por-contador*. \n",
        "\n",
        "Un ejemplo de esto utilizando *while* sería:"
      ]
    },
    {
      "cell_type": "code",
      "metadata": {
        "id": "TpUDW7EPo6H4",
        "colab_type": "code",
        "colab": {}
      },
      "source": [
        "i = valorInicial \n",
        "while i < valorFinal:\n",
        "    #  Definiciones del loop\n",
        "    i += 1 # Se renueva la variable que controla la iteración"
      ],
      "execution_count": 0,
      "outputs": []
    },
    {
      "cell_type": "markdown",
      "metadata": {
        "id": "uLEvgOg4o6H7",
        "colab_type": "text"
      },
      "source": [
        "Una iteración *for* se pude utilizar para simplicarlo:"
      ]
    },
    {
      "cell_type": "code",
      "metadata": {
        "id": "-c_m7fnlo6H7",
        "colab_type": "code",
        "colab": {}
      },
      "source": [
        "for i in range(valorInicial, valorFinal)"
      ],
      "execution_count": 0,
      "outputs": []
    },
    {
      "cell_type": "markdown",
      "metadata": {
        "id": "8PFMnmSBo6H9",
        "colab_type": "text"
      },
      "source": [
        "De forma general un *for* tiene la sintaxis:"
      ]
    },
    {
      "cell_type": "code",
      "metadata": {
        "id": "-_mX9OKNo6H-",
        "colab_type": "code",
        "colab": {}
      },
      "source": [
        "for variable in secuencia:"
      ],
      "execution_count": 0,
      "outputs": []
    },
    {
      "cell_type": "markdown",
      "metadata": {
        "id": "v9t_DTCWo6IA",
        "colab_type": "text"
      },
      "source": [
        "Una secuencia tiene múltiples elementos de información almacenados uno después del otro."
      ]
    },
    {
      "cell_type": "markdown",
      "metadata": {
        "id": "RmpgJxn8o6IB",
        "colab_type": "text"
      },
      "source": [
        "La función **range(a, b)** regresa una secuencia de enteros de la forma $a, a+1, …, b-2, b-1$"
      ]
    },
    {
      "cell_type": "code",
      "metadata": {
        "id": "uVt5HxfEo6IC",
        "colab_type": "code",
        "outputId": "e8885d8c-4694-4796-e678-c88a784ddfc8",
        "colab": {
          "base_uri": "https://localhost:8080/",
          "height": 89
        }
      },
      "source": [
        "for v in range(4, 8):\n",
        "    print v"
      ],
      "execution_count": 0,
      "outputs": [
        {
          "output_type": "stream",
          "text": [
            "4\n",
            "5\n",
            "6\n",
            "7\n"
          ],
          "name": "stdout"
        }
      ]
    },
    {
      "cell_type": "code",
      "metadata": {
        "id": "mt_LEPDko6IE",
        "colab_type": "code",
        "outputId": "5ff8ea66-31be-4ea4-b915-97dcaaf00c22",
        "colab": {
          "base_uri": "https://localhost:8080/",
          "height": 71
        }
      },
      "source": [
        "for v in range(3, 9, 2): # Paso positivo o negativo\n",
        "    print v"
      ],
      "execution_count": 0,
      "outputs": [
        {
          "output_type": "stream",
          "text": [
            "3\n",
            "5\n",
            "7\n"
          ],
          "name": "stdout"
        }
      ]
    },
    {
      "cell_type": "code",
      "metadata": {
        "id": "JsCPXRITo6IF",
        "colab_type": "code",
        "outputId": "7c7909bd-4ff2-4113-a5b2-10763357d304",
        "colab": {
          "base_uri": "https://localhost:8080/",
          "height": 287
        }
      },
      "source": [
        "numero = 0\n",
        "suma = 0\n",
        "for conteo in range(5):\n",
        "    numero = input(\"Entre un entero: \")\n",
        "    suma += numero\n",
        "    print \"La suma es: \", suma\n",
        "    print \"El contéo es: \", conteo"
      ],
      "execution_count": 0,
      "outputs": [
        {
          "output_type": "stream",
          "text": [
            "Entre un entero: 5\n",
            "La suma es:  5\n",
            "El contéo es:  0\n",
            "Entre un entero: 4\n",
            "La suma es:  9\n",
            "El contéo es:  1\n",
            "Entre un entero: 2\n",
            "La suma es:  11\n",
            "El contéo es:  2\n",
            "Entre un entero: 1\n",
            "La suma es:  12\n",
            "El contéo es:  3\n",
            "Entre un entero: 0\n",
            "La suma es:  12\n",
            "El contéo es:  4\n"
          ],
          "name": "stdout"
        }
      ]
    },
    {
      "cell_type": "markdown",
      "metadata": {
        "id": "hYqZW8NIo6II",
        "colab_type": "text"
      },
      "source": [
        "# Cuidado con las iteraciones anidadas"
      ]
    },
    {
      "cell_type": "code",
      "metadata": {
        "id": "IBPhlz1do6IJ",
        "colab_type": "code",
        "outputId": "4acce457-69aa-4267-9a91-7d1cf526e43a",
        "colab": {
          "base_uri": "https://localhost:8080/",
          "height": 35
        }
      },
      "source": [
        "import time\n",
        "start = time.time()\n",
        "a = 0\n",
        "rango = 10\n",
        "count = 0\n",
        "for i in range(rango):\n",
        "    for j in range(rango):\n",
        "        for k in range(rango):\n",
        "            a += i*j*k\n",
        "            count += 1\n",
        "\n",
        "print \"El resultado es \", a, \"y me tomó \", time.time() - start,\\\n",
        "\"segundos y realicé \", count, \"operaciones\""
      ],
      "execution_count": 0,
      "outputs": [
        {
          "output_type": "stream",
          "text": [
            "El resultado es  91125 y me tomó  0.00192403793335 segundos y realicé  1000 operaciones\n"
          ],
          "name": "stdout"
        }
      ]
    },
    {
      "cell_type": "markdown",
      "metadata": {
        "id": "jSNh9fpNo6IL",
        "colab_type": "text"
      },
      "source": [
        "# Area de un círculo... última vez..."
      ]
    },
    {
      "cell_type": "markdown",
      "metadata": {
        "id": "rptGFbS7o6IM",
        "colab_type": "text"
      },
      "source": [
        "# ...quizás."
      ]
    },
    {
      "cell_type": "markdown",
      "metadata": {
        "id": "4a7N9EfSo6IM",
        "colab_type": "text"
      },
      "source": [
        "Un problema que es solucionado con números aleatorios y conceptos de probabilidad se conoce como una simulación \"Monte carlo\". Tiene un amplio rango de aplicaciones en matemáticas, física, etc.\n",
        "Acá lo podemos utilizar para estimar el valor de $\\pi$.\n"
      ]
    },
    {
      "cell_type": "markdown",
      "metadata": {
        "id": "zPARGEgLo6IN",
        "colab_type": "text"
      },
      "source": [
        "![circulo.png](attachment:circulo.png)"
      ]
    },
    {
      "cell_type": "markdown",
      "metadata": {
        "id": "cwjyoZP9o6IN",
        "colab_type": "text"
      },
      "source": [
        "Podemos asociar el concepto de área con probabilidad con los siguientes razonamientos:\n",
        "\n",
        "- Las relaciones entre las áreas son:\n",
        "\n",
        "     $$ \\frac{AreaCirculo}{AreaCuadrado} = \\frac{\\pi}{4}  $$\n",
        "\n",
        "- Un número aleatorio con componentes $x$ y $y$ en el rango de -1 a 1, siempre caerá dentro del área del rectángulo.\n",
        "\n",
        "- Un número aleatorio con componentes $x$ y $y$ en el rango de -1 a 1 y que cumpla con: $x^2+y^2<1$ siempre caerá en el área del círculo área $\\pi$"
      ]
    },
    {
      "cell_type": "markdown",
      "metadata": {
        "id": "uNg2i7txo6IP",
        "colab_type": "text"
      },
      "source": [
        "Concluimos que las áreas están relacionadas con la probabilidad que tiene un punto de caer en ellas. Así que se puede escribir un programa que genere números aleatorios y aproxime el valor de $\\pi$.\n",
        "\n",
        "$$ \\frac{NoAciertos}{NoIntentos} = \\frac{\\pi}{4}  $$\n",
        "  \n",
        "$$ 4 \\cdot \\frac{NoAciertos}{NoIntentos} = \\pi  $$"
      ]
    },
    {
      "cell_type": "code",
      "metadata": {
        "id": "U0gsd39Go6IP",
        "colab_type": "code",
        "outputId": "05d8ecb9-0731-469b-a0b8-c209f7a86c21",
        "colab": {
          "base_uri": "https://localhost:8080/",
          "height": 286
        }
      },
      "source": [
        "import matplotlib.pyplot as plt\n",
        "%matplotlib inline  \n",
        "\n",
        "figura=plt.gca()\n",
        "circulo=plt.Circle((0, 0), 1, color='b', fill=False)\n",
        "figura.add_artist(circulo)\n",
        "figura.set_xlim((-1,1))\n",
        "figura.set_ylim((-1,1))"
      ],
      "execution_count": 0,
      "outputs": [
        {
          "output_type": "execute_result",
          "data": {
            "text/plain": [
              "(-1, 1)"
            ]
          },
          "metadata": {
            "tags": []
          },
          "execution_count": 6
        },
        {
          "output_type": "display_data",
          "data": {
            "image/png": "[encoded data removed]",
            "text/plain": [
              "<Figure size 432x288 with 1 Axes>"
            ]
          },
          "metadata": {
            "tags": []
          }
        }
      ]
    },
    {
      "cell_type": "code",
      "metadata": {
        "id": "nIeBkehjo6IU",
        "colab_type": "code",
        "outputId": "3df63883-79bd-4bbf-93cc-7f96493acc2c",
        "colab": {
          "base_uri": "https://localhost:8080/",
          "height": 286
        }
      },
      "source": [
        "import matplotlib.pyplot as plt\n",
        "import numpy as np\n",
        "import time\n",
        "%matplotlib inline  \n",
        "\n",
        "figura=plt.gca()\n",
        "circulo=plt.Circle((0, 0), 1, color='b', fill=False)\n",
        "figura.add_artist(circulo)\n",
        "figura.set_xlim((-1,1))\n",
        "figura.set_ylim((-1,1))\n",
        "\n",
        "numeroIntentos = 10000000\n",
        "numeroAciertos = 0\n",
        "\n",
        "startTime = time.time()\n",
        "for i in range(numeroIntentos):\n",
        "    x = np.random.random() * 2 -1  #random genera flotantes entre 0 y 1.\n",
        "    y = np.random.random() * 2 -1\n",
        "    \n",
        "    if x ** 2 + y ** 2 <= 1:\n",
        "        numeroAciertos += 1\n",
        "        #figura.plot(x, y, 'r.')\n",
        "    else:\n",
        "        #figura.plot(x, y, 'g.')\n",
        "        pass\n",
        "        \n",
        "pi = 4. * numeroAciertos/numeroIntentos\n",
        "\n",
        "print \"La estimación de pi es: \", pi, \"con un \\\n",
        "número de aciertos igual a: \", numeroAciertos, \". El cálculo demoró: \", \\\n",
        "time.time()-startTime, \" segundos\""
      ],
      "execution_count": 0,
      "outputs": [
        {
          "output_type": "stream",
          "text": [
            "La estimación de pi es:  3.140666 con un número de aciertos igual a:  7851665 . El cálculo demoró:  10.1030750275  segundos\n"
          ],
          "name": "stdout"
        },
        {
          "output_type": "display_data",
          "data": {
            "image/png": "[encoded data removed]",
            "text/plain": [
              "<Figure size 432x288 with 1 Axes>"
            ]
          },
          "metadata": {
            "tags": []
          }
        }
      ]
    },
    {
      "cell_type": "markdown",
      "metadata": {
        "id": "A5NHg2_Io6IX",
        "colab_type": "text"
      },
      "source": [
        "# Plabras clave: *break*, *continue* y *pass*"
      ]
    },
    {
      "cell_type": "markdown",
      "metadata": {
        "id": "u3B-mdfQo6IY",
        "colab_type": "text"
      },
      "source": [
        "Se puede utilizar la declaración *brake* para romper el bucle *for* o *while* más \"interno\". Esto quiere decir que no se realizan más iteraciones en el bucle más cercano.\n",
        "\n",
        "Muy útil para salir de bucles una vez se cumple una condición o el bucle falla en generar lo que se busca."
      ]
    },
    {
      "cell_type": "code",
      "metadata": {
        "id": "TST2QyHro6IY",
        "colab_type": "code",
        "colab": {}
      },
      "source": [
        "suma = 0\n",
        "iteracion = 0\n",
        "while iteracion < 20:\n",
        "    iteracion += 1\n",
        "    suma += iteracion\n",
        "    if suma >= 100:\n",
        "        break\n",
        "print \"La iteración/numero es : \", iteracion\n",
        "print \"La suma es: \", suma"
      ],
      "execution_count": 0,
      "outputs": []
    },
    {
      "cell_type": "markdown",
      "metadata": {
        "id": "1O0DNp88o6Ib",
        "colab_type": "text"
      },
      "source": [
        "Se puede utilizar la declaración *brake* para romper la iteración del bucle *for* o *while* más \"interno\". Esto quiere decir que no se realiza la iteración actual en el bucle más cercano. "
      ]
    },
    {
      "cell_type": "markdown",
      "metadata": {
        "id": "0Nqst7f6o6Ib",
        "colab_type": "text"
      },
      "source": [
        "Otra declaración llamada *continue*, resulta muy útil para evitar indeterminaciones."
      ]
    },
    {
      "cell_type": "code",
      "metadata": {
        "id": "NB_8sMhRo6Ic",
        "colab_type": "code",
        "colab": {}
      },
      "source": [
        "for i in range(10):\n",
        "    if i == 4 or i == 7:\n",
        "        continue\n",
        "    print \"El número: \", i    "
      ],
      "execution_count": 0,
      "outputs": []
    },
    {
      "cell_type": "markdown",
      "metadata": {
        "id": "kKz2Gbnoo6Ie",
        "colab_type": "text"
      },
      "source": [
        "La declaración *pass* no hace nada.\n",
        "\n",
        "Puede utilizarse cuando la declaración se necesita de forma sintáctica (es parte de un algoritmo matemático y se coloca para comprender mejor el código) o se utiliza en un código en construcción."
      ]
    },
    {
      "cell_type": "code",
      "metadata": {
        "id": "b22RLJyZo6Ie",
        "colab_type": "code",
        "colab": {}
      },
      "source": [
        "for i in range(10):\n",
        "    if i == 4 or i == 7:\n",
        "        pass\n",
        "    print \"El número: \", i  "
      ],
      "execution_count": 0,
      "outputs": []
    },
    {
      "cell_type": "markdown",
      "metadata": {
        "id": "gcjpymwno6Ig",
        "colab_type": "text"
      },
      "source": [
        "\n",
        "\n",
        "<div class=\"alert alert-warning\">**Nota**: Algunos lenguajes de programación tienen la declaración *goto*. Esta declaración transfiere el control indiscriminadamente a cualquier otra declaración en el programa y lo ejecuta. Esto  hace que los programas sean vulnerables a errores.  Las declaraciones *break* y *continue* en Python son diferentes, sólo operan sobre el bucle; rompiendo el bucle o la iteración actual</div>"
      ]
    },
    {
      "cell_type": "markdown",
      "metadata": {
        "id": "q-0Vi3-Io6Ih",
        "colab_type": "text"
      },
      "source": [
        "## Ejemplo: División entera más pequeña"
      ]
    },
    {
      "cell_type": "code",
      "metadata": {
        "id": "7z-QsbU0o6Ii",
        "colab_type": "code",
        "colab": {}
      },
      "source": [
        "n = input(\"Introduzca un entero >= 2: \")\n",
        "factor = 2\n",
        "while factor <= n:\n",
        "    if n % factor == 0:\n",
        "        break\n",
        "    factor += 1\n",
        "print \"El factor más pequeño diferente a uno para \", n, \"es\", factor"
      ],
      "execution_count": 0,
      "outputs": []
    },
    {
      "cell_type": "code",
      "metadata": {
        "id": "Mv15kYNlo6Im",
        "colab_type": "code",
        "colab": {}
      },
      "source": [
        "n = input(\"Introduzca un entero >= 2: \")\n",
        "found = False\n",
        "factor = 2\n",
        "while factor <= n and not found:\n",
        "    if n % factor == 0:\n",
        "        found = True\n",
        "    else:\n",
        "        factor += 1\n",
        "print \"El factor más pequeño diferente a uno para \", n, \"es\", factor"
      ],
      "execution_count": 0,
      "outputs": []
    },
    {
      "cell_type": "markdown",
      "metadata": {
        "id": "sagS7neuo6Io",
        "colab_type": "text"
      },
      "source": [
        "# Aplicando lo aprendido a un problema de \"optimización\""
      ]
    },
    {
      "cell_type": "code",
      "metadata": {
        "id": "wptrtPsYo6Ip",
        "colab_type": "code",
        "cellView": "code",
        "colab": {}
      },
      "source": [
        "import time\n",
        "import numpy as np\n",
        "\n",
        "terminado = 0\n",
        "tiempo = 5 #segundos\n",
        "precision = 4\n",
        "piAproximado = round(np.pi, precision)\n",
        "\n",
        "while terminado == 0:\n",
        "    numeroAciertos = 0\n",
        "    numeroIntentos = 0\n",
        "    piCalculado = 1\n",
        "    start = time.time()\n",
        "    while round(piCalculado, precision) != piAproximado:\n",
        "        x = np.random.random() * 2 - 1\n",
        "        y = np.random.random() * 2 - 1\n",
        "        \n",
        "        if x ** 2 + y ** 2 <= 1:\n",
        "            numeroAciertos += 1\n",
        "        if numeroIntentos < 1:\n",
        "            numeroIntentos = 1\n",
        "            continue\n",
        "        piCalculado = 4. * numeroAciertos/numeroIntentos\n",
        "        if time.time() - start > tiempo:\n",
        "            print \"El cálculo se demoró más de \", tiempo, \"segundos, \", \\\n",
        "                  \"reiniciando.\"\n",
        "            terminado = 0\n",
        "            break\n",
        "        if numeroIntentos > 100000:\n",
        "            pass\n",
        "        numeroIntentos += 1    \n",
        "        terminado = 1\n",
        "\n",
        "print  \"El cálculo se realizó con éxito luego de \", time.time() - start, \\\n",
        "\"segundos. y \", numeroIntentos, \"intentos. \\n El valor de pi calculado fué \\\n",
        "de: \\n\",  piCalculado, \"\\n El valor almacenado es de: \\n\", np.pi"
      ],
      "execution_count": 0,
      "outputs": []
    },
    {
      "cell_type": "code",
      "metadata": {
        "id": "kFqw9XdipyJJ",
        "colab_type": "code",
        "colab": {}
      },
      "source": [
        ""
      ],
      "execution_count": 0,
      "outputs": []
    }
  ]
}